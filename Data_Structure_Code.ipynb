{
  "nbformat": 4,
  "nbformat_minor": 0,
  "metadata": {
    "colab": {
      "name": "Data Structure Code.ipynb",
      "provenance": [],
      "collapsed_sections": [],
      "authorship_tag": "ABX9TyNIN+kT5mcSdLCYy1ZvqHtp",
      "include_colab_link": true
    },
    "kernelspec": {
      "name": "python3",
      "display_name": "Python 3"
    },
    "language_info": {
      "name": "python"
    }
  },
  "cells": [
    {
      "cell_type": "markdown",
      "metadata": {
        "id": "view-in-github",
        "colab_type": "text"
      },
      "source": [
        "<a href=\"https://colab.research.google.com/github/QI-N-QIGT/Data-Structure-Code/blob/main/Data_Structure_Code.ipynb\" target=\"_parent\"><img src=\"https://colab.research.google.com/assets/colab-badge.svg\" alt=\"Open In Colab\"/></a>"
      ]
    },
    {
      "cell_type": "markdown",
      "source": [
        "第1题，最大子列和问题，利用了在线处理算法"
      ],
      "metadata": {
        "id": "-yH0gskL-1bd"
      }
    },
    {
      "cell_type": "code",
      "execution_count": null,
      "metadata": {
        "colab": {
          "base_uri": "https://localhost:8080/"
        },
        "id": "h1CrD_Cp0FMf",
        "outputId": "8a60a811-a0cb-4e6e-c9cd-383fbffc5e0a"
      },
      "outputs": [
        {
          "output_type": "stream",
          "name": "stdout",
          "text": [
            "6\n",
            "-2 11 -4 13 -5 -2\n",
            "20\n"
          ]
        }
      ],
      "source": [
        "str1 = input()\n",
        "input_num = int(str1)\n",
        "# print(input_num)\n",
        "str2 = input()\n",
        "str2_list = str2.split(\" \")\n",
        "num_list = [int(str2_list[i]) for i in range(len(str2_list))]\n",
        "\n",
        "def maxSubseqSum4(num_list, input_num):\n",
        "  this_sum = 0\n",
        "  max_sum = 0\n",
        "  for i in range(input_num):\n",
        "    this_sum = this_sum + num_list[i]\n",
        "    if (this_sum > max_sum):\n",
        "      max_sum = this_sum\n",
        "    elif (this_sum < 0):\n",
        "      this_sum = 0\n",
        "  return max_sum\n",
        "\n",
        "answer = maxSubseqSum4(num_list, input_num)\n",
        "print(answer)\n"
      ]
    },
    {
      "cell_type": "markdown",
      "source": [
        "第2题，最大子列和问题，但是需要保存所对应的最大子列，仍然利用了在线处理算法"
      ],
      "metadata": {
        "id": "d8LerpibCwMn"
      }
    },
    {
      "cell_type": "code",
      "source": [
        "str1 = input()\n",
        "input_num = int(str1)\n",
        "str2 = input()\n",
        "str2_list = str2.split(\" \")\n",
        "num_list = [int(str2_list[i]) for i in range(len(str2_list))]\n",
        "\n",
        "def maxSubseqSum4(num_list, input_num):\n",
        "  this_sum = 0\n",
        "  max_sum = 0\n",
        "  max_sum_list = []  # 用来存储最大子列\n",
        "  neg_flag = 0\n",
        "  max_sum_flag = 0\n",
        "  for i in range(input_num):\n",
        "    this_sum = this_sum + num_list[i]\n",
        "\n",
        "    if(num_list[i] == 0 and max_sum_flag == 0):\n",
        "      max_sum_list.append(0)\n",
        "    if (this_sum > max_sum):\n",
        "      max_sum_list.append(num_list[i])\n",
        "      max_sum = this_sum\n",
        "      max_sum_flag = 1\n",
        "    elif (this_sum < 0):\n",
        "      this_sum = 0\n",
        "      neg_flag += 1\n",
        "    # elif (this_sum == 0 and max_sum_flag == 0):\n",
        "    #   max_sum_list.append(0)\n",
        "\n",
        "  if this_sum == 0 and neg_flag == input_num:\n",
        "    first_num, last_num = num_list[0], num_list[-1]\n",
        "  elif this_sum == 0 and neg_flag <= input_num and max_sum_flag == 0:\n",
        "    first_num, last_num = 0, 0\n",
        "  else:\n",
        "    first_num, last_num = max_sum_list[0], max_sum_list[-1]\n",
        "  return max_sum, first_num, last_num\n",
        "\n",
        "max_sum, first_num, last_num = maxSubseqSum4(num_list, input_num)\n",
        "print(str(max_sum)+' '+str(first_num)+' '+str(last_num))"
      ],
      "metadata": {
        "colab": {
          "base_uri": "https://localhost:8080/"
        },
        "id": "jBExMYThC_cQ",
        "outputId": "24d77a11-ed5b-49df-960e-f68c2ec1c1d5"
      },
      "execution_count": null,
      "outputs": [
        {
          "output_type": "stream",
          "name": "stdout",
          "text": [
            "2\n",
            "1 0\n",
            "1 1 1\n"
          ]
        }
      ]
    },
    {
      "cell_type": "markdown",
      "source": [
        "仍然是第二题，参考网上的策略，主要是将下标也分开来看"
      ],
      "metadata": {
        "id": "m72YfT0irB3u"
      }
    },
    {
      "cell_type": "code",
      "source": [
        "str1 = input()\n",
        "input_num = int(str1)\n",
        "str2 = input()\n",
        "str2_list = str2.split(\" \")\n",
        "num_list = [int(str2_list[i]) for i in range(len(str2_list))]\n",
        "\n",
        "def maxSubseqSum4(num_list, input_num):\n",
        "  this_sum = 0\n",
        "  max_sum = -1\n",
        "  # max_sum_list = []  # 用来存储最大子列\n",
        "  temp_index = 0\n",
        "  besti = 0\n",
        "  bestj = input_num-1\n",
        "  # max_sum_flag = 0\n",
        "  for i in range(input_num):\n",
        "    this_sum = this_sum + num_list[i]\n",
        "    if (this_sum < 0):\n",
        "      this_sum = 0\n",
        "      temp_index = i + 1\n",
        "    elif (this_sum > max_sum):\n",
        "      max_sum = this_sum\n",
        "      bestj = i\n",
        "      besti = temp_index\n",
        "    # elif (this_sum == 0 and max_sum_flag == 0):\n",
        "    #   max_sum_list.append(0)\n",
        "  if max_sum < 0:\n",
        "    max_sum = 0\n",
        "  return max_sum, num_list[besti], num_list[bestj]\n",
        "\n",
        "max_sum, first_num, last_num = maxSubseqSum4(num_list, input_num)\n",
        "print(str(max_sum)+' '+str(first_num)+' '+str(last_num))"
      ],
      "metadata": {
        "colab": {
          "base_uri": "https://localhost:8080/"
        },
        "id": "MPZa9RgCHJBK",
        "outputId": "4e663420-4eda-41b1-913b-fdd8201c1ee7"
      },
      "execution_count": null,
      "outputs": [
        {
          "output_type": "stream",
          "name": "stdout",
          "text": [
            "4\n",
            "0 1 -1 2\n",
            "2 0 2\n"
          ]
        }
      ]
    },
    {
      "cell_type": "markdown",
      "source": [
        "线性表 *二分查找* "
      ],
      "metadata": {
        "id": "yZ10PFfbOIsj"
      }
    },
    {
      "cell_type": "code",
      "source": [
        "#include <stdio.h>\n",
        "#include <stdlib.h>\n",
        "\n",
        "#define MAXSIZE 10\n",
        "#define NotFound 0\n",
        "typedef int ElementType;\n",
        "\n",
        "typedef int Position;\n",
        "typedef struct LNode *List;\n",
        "struct LNode {\n",
        "    ElementType Data[MAXSIZE];\n",
        "    Position Last; /* 保存线性表中最后一个元素的位置 */\n",
        "};\n",
        "\n",
        "List ReadInput(); /* 裁判实现，细节不表。元素从下标1开始存储 */\n",
        "Position BinarySearch( List L, ElementType X );\n",
        "\n",
        "int main()\n",
        "{\n",
        "    List L;\n",
        "    ElementType X;\n",
        "    Position P;\n",
        "\n",
        "    L = ReadInput();\n",
        "    scanf(\"%d\", &X);\n",
        "    P = BinarySearch( L, X );\n",
        "    printf(\"%d\\n\", P);\n",
        "\n",
        "    return 0;\n",
        "}\n",
        "\n",
        "/* 下面的函数是我的程序 */\n",
        "# 可以参考博客 https://blog.csdn.net/qq_45978890/article/details/116094046\n",
        "\n",
        "Position BinarySearch( List L, ElementType X ){\n",
        "    int left = 0;\n",
        "    int right = L->Last;\n",
        "    int middle = 0;\n",
        "    while(left <= right){\n",
        "        middle = left + ((right - left) / 2);\n",
        "        if(L->Data[middle] > X){\n",
        "            right = middle - 1;\n",
        "        }\n",
        "        else if(L->Data[middle] < X){\n",
        "            left = middle + 1;\n",
        "        }\n",
        "        else{\n",
        "            return middle;\n",
        "        }\n",
        "    }\n",
        "    return NotFound;\n",
        "}\n"
      ],
      "metadata": {
        "id": "j9zATj6NOQhH"
      },
      "execution_count": null,
      "outputs": []
    },
    {
      "cell_type": "markdown",
      "source": [
        "下面是两个有序链表的合并（C语言）"
      ],
      "metadata": {
        "id": "UdAvZN1jVc8o"
      }
    },
    {
      "cell_type": "code",
      "source": [
        "#include <stdio.h>\n",
        "#include <stdlib.h>\n",
        "\n",
        "typedef int ElementType;\n",
        "typedef struct Node *PtrToNode;\n",
        "struct Node {\n",
        "    ElementType Data;\n",
        "    PtrToNode   Next;\n",
        "};\n",
        "typedef PtrToNode List;\n",
        "\n",
        "List Read(); /* 细节在此不表 */\n",
        "void Print( List L ); /* 细节在此不表；空链表将输出NULL */\n",
        "\n",
        "List Merge( List L1, List L2 );\n",
        "\n",
        "int main()\n",
        "{\n",
        "    List L1, L2, L;\n",
        "    L1 = Read();\n",
        "    L2 = Read();\n",
        "    L = Merge(L1, L2);\n",
        "    Print(L);\n",
        "    Print(L1);\n",
        "    Print(L2);\n",
        "    return 0;\n",
        "}\n",
        "\n",
        "/* 你的代码将被嵌在这里 */\n",
        "List Merge( List L1, List L2 ){\n",
        "    List l1,l2,l,L;\n",
        "    l1 = L1->Next;   // 头结点\n",
        "    l2 = L2->Next;\n",
        "    l = (List)malloc(sizeof(List));\n",
        "    L = l;\n",
        "    \n",
        "    while(l1 && l2){\n",
        "        if(l1->Data > l2->Data){\n",
        "            L->Next = l2;\n",
        "            L = l2;\n",
        "            l2 = l2->Next;\n",
        "        }\n",
        "        else{\n",
        "            L->Next = l1;\n",
        "            L = l1;\n",
        "            l1 = l1->Next;\n",
        "        }\n",
        "    }\n",
        "    L->Next = l1 ? l1 : l2;\n",
        "    L1->Next = NULL;\n",
        "    L2->Next = NULL;\n",
        "    return l;\n",
        "}\n",
        "\n"
      ],
      "metadata": {
        "id": "BVxKRvYcVcjm"
      },
      "execution_count": null,
      "outputs": []
    },
    {
      "cell_type": "code",
      "source": [
        "typedef structure Node *PtrToNode; // 定义新的数据类型，它是指向Node结构体的指针，这里可以理解成*PtrToNode就是指的Node，而\n",
        "// *是取指针指向的值，那么可以理解，PtrToNode是一个指针变量。\n",
        "typedef PtrToNode List; //定义了一个链表，其存储的数据格式是Node结构体，名字是List\n"
      ],
      "metadata": {
        "id": "iGJBDjVDTRRc"
      },
      "execution_count": null,
      "outputs": []
    },
    {
      "cell_type": "code",
      "source": [
        "str1 = input()\n",
        "str1_list = str1.split(\" \")\n",
        "num_list1 = [int(str1_list[i]) for i in range(len(str1_list))]\n",
        "\n",
        "str2 = input()\n",
        "str2_list = str2.split(\" \")\n",
        "num_list2 = [int(str2_list[i]) for i in range(len(str2_list))]\n",
        "\n",
        "def Poly(num_list1, num_list2):\n",
        "  mul_list = []\n",
        "  sum_list = []\n",
        "  for i in num_list1:\n",
        "    \n"
      ],
      "metadata": {
        "id": "UVheD7mJj1Uk"
      },
      "execution_count": null,
      "outputs": []
    },
    {
      "cell_type": "code",
      "source": [
        "#include <stdio.h>\n",
        "#include <stdlib.h>\n",
        "\n",
        "typedef struct PolyNode *Polynomial;\n",
        "struct PolyNode {\n",
        "    int coef;\n",
        "    int expon;\n",
        "    Polynomial link;\n",
        "};\n",
        "\n",
        "Polynomial ReadPoly();\n",
        "void Attach(int c, int e, Polynomial *pRear);\n",
        "Polynomial Add(Polynomial P1, Polynomial P2);\n",
        "Polynomial Mult(Polynomial P1, Polynomial P2);\n",
        "void PrintPoly(Polynomial P);\n",
        "\n",
        "\n",
        "int main()\n",
        "{\n",
        "    Polynomial P1, P2, PP, PS;\n",
        "    P1 = ReadPoly();\n",
        "    P2 = ReadPoly();\n",
        "    PP = Mult(P1, P2);\n",
        "    PrintPoly(PP);\n",
        "    PS = Add(P1, P2);\n",
        "    PrintPoly(PS);\n",
        "}\n",
        "\n",
        "Polynomial ReadPoly(){\n",
        "    Polynomial P,Rear,t;\n",
        "    int c,e,N;\n",
        "    scanf(\"%d\", &N);\n",
        "    \n",
        "    P = (Polynomial)malloc(sizeof(struct PolyNode));\n",
        "    P->link = NULL;\n",
        "    Rear = P;\n",
        "    \n",
        "    while(N--){\n",
        "        scanf(\"%d %d\", &c, &e);\n",
        "        Attach(c,e,&Rear);\n",
        "    }\n",
        "    t = P; P = P->link; free(t);  // 去掉头结点\n",
        "    return P;\n",
        "}\n",
        "\n",
        "void Attach(int c, int e, Polynomial *pRear){\n",
        "    Polynomial P;\n",
        "    P = (Polynomial)malloc(sizeof(struct PolyNode));\n",
        "    P->coef = c;\n",
        "    P->expon = e;\n",
        "    P->link = NULL;\n",
        "    (*pRear)->link = P;\n",
        "    *pRear = P;\n",
        "}\n",
        "\n",
        "Polynomial Add(Polynomial P1, Polynomial P2){\n",
        "    Polynomial t1, t2, P, Rear,t;\n",
        "    t1 = P1; t2 = P2;\n",
        "    P = (Polynomial)malloc(sizeof(struct PolyNode)); \n",
        "    P->link = NULL;\n",
        "    Rear = P;\n",
        "    \n",
        "    while(t1 && t2){\n",
        "        if(t1->expon == t2->expon){\n",
        "            Attach(t1->coef+t2->coef, t1->expon, &Rear);\n",
        "            t1->link = t1;\n",
        "            t2->link = t2;\n",
        "        }\n",
        "        else if(t1->expon > t2->expon){\n",
        "           Attach(t1->coef, t1->expon, &Rear);\n",
        "           t1->link = t1;\n",
        "        }\n",
        "        else{\n",
        "            Attach(t2->coef, t2->expon, &Rear);\n",
        "            t2->link = t2;\n",
        "        }\n",
        "    }\n",
        "    while(t1){\n",
        "        Rear->link = t1;\n",
        "    }\n",
        "    while(t2){\n",
        "        Rear->link = t2;\n",
        "    }\n",
        "    t = P; P = P->link; free(t);  // 去掉头结点\n",
        "    return P;\n",
        "}\n",
        "\n",
        "Polynomial Mult(Polynomial P1, Polynomial P2){\n",
        "    Polynomial P, Rear, t1, t2, t;\n",
        "    int c,e;\n",
        "    if(!P1||!P2) return NULL;\n",
        "    t1 = P1; t2 = P2;\n",
        "    P = (Polynomial)malloc(sizeof(struct PolyNode));\n",
        "    P->link = NULL;\n",
        "    Rear = P;\n",
        "    while(t2){\n",
        "        Attach(t1->coef*t2->coef, t1->expon+t2->expon,&Rear);\n",
        "        t2 = t2->link;\n",
        "    }\n",
        "    t1 = t1->link;\n",
        "    while(t1){\n",
        "        t2 = P2; \n",
        "        Rear=P;\n",
        "        while(t2){\n",
        "            e = t1->expon + t2->expon;\n",
        "            c = t1->coef*t2->coef;\n",
        "            while(Rear->link && Rear->link->expon>e){\n",
        "                Rear = Rear->link;\n",
        "            }\n",
        "            if(Rear->link && Rear->link->expon == e){\n",
        "                if (Rear->link->coef + c){\n",
        "                    Rear->link->coef+=c;\n",
        "                }\n",
        "                else{\n",
        "                    // 删掉0节点\n",
        "                    t = Rear->link;\n",
        "                    Rear->link = t->link;\n",
        "                    free(t);\n",
        "                }\n",
        "            }\n",
        "            else{  // 把结果插入链表里\n",
        "                t = (Polynomial)malloc(sizeof(struct PolyNode));\n",
        "                t->coef = c;\n",
        "                t->expon = e;\n",
        "                t->link = Rear->link;\n",
        "                Rear->link = t;\n",
        "                Rear = Rear->link;\n",
        "            }\n",
        "            t2 = t2->link;\n",
        "        }\n",
        "        t1 = t1->link;\n",
        "    }\n",
        "    t2 = P; P = P->link; free(t2);\n",
        "    return P;\n",
        "}\n",
        "\n",
        "void PrintPoly(Polynomial P){\n",
        "    int flag = 0;\n",
        "    if(!P){printf(\"0 0\\n\");return;}\n",
        "    \n",
        "    while(P){\n",
        "        if(!flag){\n",
        "            flag = 1;\n",
        "        }\n",
        "        else{\n",
        "            printf(\" \");\n",
        "        }\n",
        "        printf(\"%d %d\",P->coef, P->expon);\n",
        "        P = P->link;\n",
        "    }\n",
        "    printf(\"\\n\");\n",
        "}"
      ],
      "metadata": {
        "id": "sHpjAqG2Bs86"
      },
      "execution_count": null,
      "outputs": []
    }
  ]
}