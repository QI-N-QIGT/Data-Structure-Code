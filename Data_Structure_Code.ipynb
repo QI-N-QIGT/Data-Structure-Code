{
  "nbformat": 4,
  "nbformat_minor": 0,
  "metadata": {
    "colab": {
      "name": "Data Structure Code.ipynb",
      "provenance": [],
      "collapsed_sections": [],
      "authorship_tag": "ABX9TyN0xKwNHLjEPGlNSM5S9At+",
      "include_colab_link": true
    },
    "kernelspec": {
      "name": "python3",
      "display_name": "Python 3"
    },
    "language_info": {
      "name": "python"
    }
  },
  "cells": [
    {
      "cell_type": "markdown",
      "metadata": {
        "id": "view-in-github",
        "colab_type": "text"
      },
      "source": [
        "<a href=\"https://colab.research.google.com/github/QI-N-QIGT/Data-Structure-Code/blob/main/Data_Structure_Code.ipynb\" target=\"_parent\"><img src=\"https://colab.research.google.com/assets/colab-badge.svg\" alt=\"Open In Colab\"/></a>"
      ]
    },
    {
      "cell_type": "markdown",
      "source": [
        "第一题，最大子列和问题，利用了在线处理算法"
      ],
      "metadata": {
        "id": "-yH0gskL-1bd"
      }
    },
    {
      "cell_type": "code",
      "execution_count": 18,
      "metadata": {
        "colab": {
          "base_uri": "https://localhost:8080/"
        },
        "id": "h1CrD_Cp0FMf",
        "outputId": "8a60a811-a0cb-4e6e-c9cd-383fbffc5e0a"
      },
      "outputs": [
        {
          "output_type": "stream",
          "name": "stdout",
          "text": [
            "6\n",
            "-2 11 -4 13 -5 -2\n",
            "20\n"
          ]
        }
      ],
      "source": [
        "str1 = input()\n",
        "input_num = int(str1)\n",
        "# print(input_num)\n",
        "str2 = input()\n",
        "str2_list = str2.split(\" \")\n",
        "num_list = [int(str2_list[i]) for i in range(len(str2_list))]\n",
        "\n",
        "def maxSubseqSum4(num_list, input_num):\n",
        "  this_sum = 0\n",
        "  max_sum = 0\n",
        "  for i in range(input_num):\n",
        "    this_sum = this_sum + num_list[i]\n",
        "    if (this_sum > max_sum):\n",
        "      max_sum = this_sum\n",
        "    elif (this_sum < 0):\n",
        "      this_sum = 0\n",
        "  return max_sum\n",
        "\n",
        "answer = maxSubseqSum4(num_list, input_num)\n",
        "print(answer)\n"
      ]
    }
  ]
}